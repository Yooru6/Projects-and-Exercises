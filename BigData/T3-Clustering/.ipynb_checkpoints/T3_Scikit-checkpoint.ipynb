{
 "cells": [
  {
   "cell_type": "code",
   "execution_count": 1,
   "metadata": {},
   "outputs": [],
   "source": [
    "from sklearn import datasets, model_selection, svm, metrics\n",
    "from sklearn.neural_network import MLPClassifier\n",
    "from sklearn.externals import joblib\n",
    "import numpy as np\n",
    "import pandas as pd\n",
    "import threading\n",
    "from sklearn.model_selection import train_test_split\n",
    "from sklearn import tree\n",
    "import matplotlib.pyplot as plt\n",
    "from sklearn import preprocessing as pp"
   ]
  },
  {
   "cell_type": "code",
   "execution_count": 2,
   "metadata": {},
   "outputs": [
    {
     "name": "stdout",
     "output_type": "stream",
     "text": [
      "\n",
      "DESCRIBE DATA:\n",
      "        Urheilu ja liikunta  Baarit ja klubit  Kirjallisuus     Musiikki  \\\n",
      "count          1000.000000       1000.000000   1000.000000  1000.000000   \n",
      "mean              5.917000          5.942000      4.720000     6.096000   \n",
      "std               2.409962          2.472397      2.534566     2.554077   \n",
      "min               0.000000          0.000000      0.000000     0.000000   \n",
      "25%               4.000000          4.000000      3.000000     4.000000   \n",
      "50%               6.000000          6.000000      5.000000     6.000000   \n",
      "75%               8.000000          8.000000      7.000000     8.000000   \n",
      "max              10.000000         10.000000     10.000000    10.000000   \n",
      "\n",
      "       Perhe ja suku       Luonto     Mokkeily     Sisustus     Matkailu  \\\n",
      "count    1000.000000  1000.000000  1000.000000  1000.000000  1000.000000   \n",
      "mean        5.972000     4.973000     5.873000     5.811000     5.901000   \n",
      "std         2.608835     2.185188     2.509416     2.510295     2.526971   \n",
      "min         0.000000     0.000000     0.000000     0.000000     0.000000   \n",
      "25%         4.000000     3.000000     4.000000     4.000000     4.000000   \n",
      "50%         6.000000     5.000000     6.000000     6.000000     6.000000   \n",
      "75%         8.000000     7.000000     8.000000     8.000000     8.000000   \n",
      "max        10.000000    10.000000    10.000000    10.000000    10.000000   \n",
      "\n",
      "          Kasityot  Muoti ja vaatteet  Kuukausitulo   Sukupuoli  \n",
      "count  1000.000000        1000.000000   1000.000000  1000.00000  \n",
      "mean      3.937000           5.973000   2953.928000     0.52000  \n",
      "std       2.491835           2.531932   1055.586869     0.49985  \n",
      "min       0.000000           0.000000     10.000000     0.00000  \n",
      "25%       2.000000           4.000000   2241.500000     0.00000  \n",
      "50%       4.000000           6.000000   2895.500000     1.00000  \n",
      "75%       6.000000           8.000000   3706.500000     1.00000  \n",
      "max      10.000000          10.000000   5735.000000     1.00000  \n"
     ]
    }
   ],
   "source": [
    "##Prepare data##\n",
    "\n",
    "filename=r'arvostukset_v4.csv'\n",
    "data_train=pd.read_csv(filename,index_col=None,na_values='?',sep = ';')\n",
    "data_train=data_train.drop(['ID'], axis=1)\n",
    "data_train=data_train.dropna()\n",
    "data_train['Sukupuoli'].replace(to_replace=['M'], value=0,inplace=True)\n",
    "data_train['Sukupuoli'].replace(to_replace=['N'], value=1,inplace=True)\n",
    "\n",
    "#print(data_train.head(10))\n",
    "#df.head()\n",
    "\n",
    "print(\"\\nDESCRIBE DATA:\\n\",data_train.describe())\n",
    "data_train.describe().to_excel(r'original_Describe.xlsx')"
   ]
  },
  {
   "cell_type": "code",
   "execution_count": 3,
   "metadata": {},
   "outputs": [
    {
     "name": "stdout",
     "output_type": "stream",
     "text": [
      "\n",
      "DESCRIBE SCALED DATA:\n",
      "                  0             1             2             3             4   \\\n",
      "count  1.000000e+03  1.000000e+03  1.000000e+03  1.000000e+03  1.000000e+03   \n",
      "mean   8.837375e-17  6.106227e-19  1.081357e-16 -4.285461e-17 -6.383782e-17   \n",
      "std    1.000500e+00  1.000500e+00  1.000500e+00  1.000500e+00  1.000500e+00   \n",
      "min   -2.456454e+00 -2.404538e+00 -1.863184e+00 -2.387967e+00 -2.290289e+00   \n",
      "25%   -7.958461e-01 -7.858655e-01 -6.789568e-01 -8.210595e-01 -7.562711e-01   \n",
      "50%    3.445760e-02  2.347075e-02  1.105278e-01 -3.760578e-02  1.073813e-02   \n",
      "75%    8.647613e-01  8.328070e-01  9.000125e-01  7.458479e-01  7.777473e-01   \n",
      "max    1.695065e+00  1.642143e+00  2.084239e+00  1.529302e+00  1.544757e+00   \n",
      "\n",
      "                 5             6             7             8             9   \\\n",
      "count  1.000000e+03  1.000000e+03  1.000000e+03  1.000000e+03  1.000000e+03   \n",
      "mean   7.988055e-17 -8.104628e-17  7.893686e-17  7.699397e-17  1.504352e-16   \n",
      "std    1.000500e+00  1.000500e+00  1.000500e+00  1.000500e+00  1.000500e+00   \n",
      "min   -2.276916e+00 -2.341556e+00 -2.316026e+00 -2.336375e+00 -1.580751e+00   \n",
      "25%   -9.033490e-01 -7.467623e-01 -7.217902e-01 -7.526604e-01 -7.777278e-01   \n",
      "50%    1.236210e-02  5.063471e-02  7.532763e-02  3.919694e-02  2.529523e-02   \n",
      "75%    9.280732e-01  8.480317e-01  8.724454e-01  8.310542e-01  8.283183e-01   \n",
      "max    2.301640e+00  1.645429e+00  1.669563e+00  1.622912e+00  2.434364e+00   \n",
      "\n",
      "                 10            11            12  \n",
      "count  1.000000e+03  1.000000e+03  1.000000e+03  \n",
      "mean   3.597123e-17  1.083578e-16  1.343370e-16  \n",
      "std    1.000500e+00  1.000500e+00  1.000500e+00  \n",
      "min   -2.360248e+00 -2.790297e+00 -1.040833e+00  \n",
      "25%   -7.796366e-01 -6.752495e-01 -1.040833e+00  \n",
      "50%    1.066913e-02 -5.537890e-02  9.607689e-01  \n",
      "75%    8.009749e-01  7.132985e-01  9.607689e-01  \n",
      "max    1.591281e+00  2.635940e+00  9.607689e-01  \n",
      "\n",
      "SCALED DATA:\n",
      "          0         1         2         3         4         5         6   \\\n",
      "0 -0.380694 -0.785865  0.505270  1.137575  0.777747  0.928073  0.848032   \n",
      "1  0.034458  0.832807 -0.284214  0.745848 -0.756271 -2.276916 -0.348064   \n",
      "2 -0.380694  0.832807 -1.073699 -1.212786  0.010738 -0.903349 -1.145461   \n",
      "3 -0.380694  0.832807 -0.284214 -0.037606 -0.372766 -1.819060  0.050635   \n",
      "4 -0.380694  0.832807 -1.468441 -0.821059  1.161252  2.301640  1.246730   \n",
      "5 -0.795846 -0.381197  0.110528  0.354121  0.010738  0.470218  0.050635   \n",
      "6  0.864761  0.023471  0.110528  1.529302 -0.756271 -0.903349 -0.746762   \n",
      "7  1.279913  1.642143  0.110528 -0.821059 -0.372766 -0.903349 -1.145461   \n",
      "8  1.695065  0.832807  0.900012  1.529302  1.544757  0.470218  1.645429   \n",
      "9  0.449609  0.832807 -0.678957 -1.212786  1.161252  1.385929  0.848032   \n",
      "\n",
      "         7         8         9         10        11        12  \n",
      "0  1.271004 -1.544518  0.828318  0.010669  0.142240 -1.040833  \n",
      "1  0.075328 -0.356732 -1.580751  0.010669  1.136498  0.960769  \n",
      "2 -1.120349  0.039197 -0.376216 -0.384484 -0.835904  0.960769  \n",
      "3 -0.721790  0.435126  0.025295  0.010669 -0.251103  0.960769  \n",
      "4  0.075328  1.226983  0.426807  1.591281 -1.382793  0.960769  \n",
      "5  0.473887  0.039197  0.025295 -0.384484 -0.379057  0.960769  \n",
      "6  1.271004  1.622912 -0.376216 -0.384484  0.067363 -1.040833  \n",
      "7 -0.721790  0.831054 -1.580751  1.591281  1.258766 -1.040833  \n",
      "8  1.669563  1.226983  0.426807 -1.174790  1.267296 -1.040833  \n",
      "9  0.872445 -0.752660  1.229830  0.405822  0.142240 -1.040833  \n"
     ]
    }
   ],
   "source": [
    "###Scaling the data###\n",
    "\n",
    "from sklearn.preprocessing import StandardScaler\n",
    "colnames = data_train.columns.get_values()\n",
    "scaler = StandardScaler()\n",
    "df_scaled = pd.DataFrame(scaler.fit_transform(data_train))\n",
    "#df_scaled.head()\n",
    "print('\\nDESCRIBE SCALED DATA:\\n',df_scaled.describe())\n",
    "df_scaled.min()\n",
    "df_scaled.max()\n",
    "print('\\nSCALED DATA:\\n',df_scaled.head(10))\n",
    "df_scaled.to_excel(r'df_scaled.xlsx')\n",
    "\n",
    "described_df=df_scaled.describe()\n",
    "described_df.to_excel(r'df_scaled_Describe.xlsx')\n"
   ]
  },
  {
   "cell_type": "code",
   "execution_count": 4,
   "metadata": {
    "scrolled": true
   },
   "outputs": [],
   "source": [
    "###K-Means clustering###FIT AND PREDICT\n",
    "from sklearn import cluster\n",
    "num_clusters = 3\n",
    "\n",
    "kmeans = cluster.KMeans(n_clusters=num_clusters,random_state=1,max_iter=1000)\n",
    "kmeans.fit(df_scaled)\n",
    "predict=kmeans.predict(df_scaled)\n",
    "\n",
    "\n",
    "\n",
    "centroids = kmeans.cluster_centers_\n",
    "#print(kmeans.predict(1)"
   ]
  },
  {
   "cell_type": "code",
   "execution_count": 5,
   "metadata": {},
   "outputs": [
    {
     "name": "stdout",
     "output_type": "stream",
     "text": [
      "CLUSTER ITEM COUNT:\n",
      "Cluster 0 = 357\n",
      "Cluster 1 = 379\n",
      "Cluster 2 = 264\n",
      "Cluster 3 = 0\n"
     ]
    }
   ],
   "source": [
    "###Cluster item count###\n",
    "print(\"CLUSTER ITEM COUNT:\")\n",
    "print(\"Cluster 0 =\",np.sum(predict==0))\n",
    "print(\"Cluster 1 =\",np.sum(predict==1))\n",
    "print(\"Cluster 2 =\",np.sum(predict==2))\n",
    "print(\"Cluster 3 =\",np.sum(predict==3))"
   ]
  },
  {
   "cell_type": "code",
   "execution_count": 6,
   "metadata": {},
   "outputs": [
    {
     "name": "stdout",
     "output_type": "stream",
     "text": [
      "\n",
      "CLUSTER CENTROIDS:\n",
      "    Urheilu ja liikunta  Baarit ja klubit  Kirjallisuus  Musiikki  \\\n",
      "0            -0.867945         -0.360794     -0.725397 -0.742056   \n",
      "1             0.372932         -0.167652      0.539641  0.342752   \n",
      "2             0.638315          0.728574      0.206223  0.511405   \n",
      "\n",
      "   Perhe ja suku    Luonto  Mokkeily  Sisustus  Matkailu  Kasityot  \\\n",
      "0      -0.692891 -0.646847 -0.824938 -0.824500 -0.258027 -0.722618   \n",
      "1       0.861734  0.878543  0.931138  0.841949 -0.126905  0.942733   \n",
      "2      -0.300133 -0.386527 -0.221205 -0.093758  0.531108 -0.376216   \n",
      "\n",
      "   Muoti ja vaatteet  Kuukausitulo  Sukupuoli  \n",
      "0           0.347158     -0.515227   0.282355  \n",
      "1          -0.066485      0.037073   0.084078  \n",
      "2          -0.374006      0.643505  -0.502523  \n"
     ]
    }
   ],
   "source": [
    "# create a pandas data frame with columns\n",
    "centroids_df = pd.DataFrame(centroids, columns=colnames)\n",
    "print('\\nCLUSTER CENTROIDS:\\n',centroids_df)\n",
    "centroids_df.to_excel(r'centroids.xlsx')"
   ]
  },
  {
   "cell_type": "code",
   "execution_count": 7,
   "metadata": {},
   "outputs": [
    {
     "data": {
      "image/png": "[encoded data removed]",
      "text/plain": [
       "<Figure size 1440x720 with 2 Axes>"
      ]
     },
     "metadata": {
      "needs_background": "light"
     },
     "output_type": "display_data"
    }
   ],
   "source": [
    "###Starting to make Figures###\n",
    "\n",
    "#inversed = scaler.inverse_transform(centroids_df)\n",
    "#print(inversed)\n",
    "\n",
    "# visualize with matplotlib\n",
    "fig=plt.figure(figsize=(20,10))\n",
    "ax = fig.add_subplot(111)\n",
    "cax = ax.matshow(centroids_df, vmin=-1, vmax=1)\n",
    "fig.colorbar(cax)\n",
    "ticks = np.arange(0,len(colnames),1)\n",
    "ax.set_xticks(ticks)\n",
    "#ax.set_yticks(ticks)\n",
    "ax.set_xticklabels(colnames)\n",
    "for tick in ax.get_xticklabels():\n",
    "    tick.set_rotation(90)\n",
    "#ax.set_yticklabels(cnames)\n",
    "plt.savefig('heatmap_arvostukset_clusters_'+str(num_clusters)+'.png',bbox_inches='tight')\n",
    "plt.show()\n"
   ]
  },
  {
   "cell_type": "code",
   "execution_count": 8,
   "metadata": {},
   "outputs": [],
   "source": [
    "###Preparing for elbowMethod###\n",
    "Sum_of_squared_data = []\n",
    "K = range(1,7)\n",
    "for k in K:\n",
    "    km = cluster.KMeans(n_clusters=k)\n",
    "    km = km.fit(df_scaled)\n",
    "    Sum_of_squared_data.append(km.inertia_)"
   ]
  },
  {
   "cell_type": "code",
   "execution_count": 9,
   "metadata": {},
   "outputs": [
    {
     "data": {
      "image/png": "[encoded data removed]",
      "text/plain": [
       "<Figure size 432x288 with 1 Axes>"
      ]
     },
     "metadata": {
      "needs_background": "light"
     },
     "output_type": "display_data"
    }
   ],
   "source": [
    "plt.plot(K, Sum_of_squared_data, 'bx-')\n",
    "plt.xlabel('k')\n",
    "plt.ylabel('Sum_of_squared_distances')\n",
    "plt.title('Elbow Method For Optimal k')\n",
    "plt.show()"
   ]
  },
  {
   "cell_type": "code",
   "execution_count": 10,
   "metadata": {
    "scrolled": true
   },
   "outputs": [
    {
     "data": {
      "image/png": "[encoded data removed]",
      "text/plain": [
       "<Figure size 432x288 with 1 Axes>"
      ]
     },
     "metadata": {
      "needs_background": "light"
     },
     "output_type": "display_data"
    }
   ],
   "source": [
    "from scipy.interpolate import make_interp_spline, BSpline\n",
    "\n",
    "# 300 represents number of points to make between T.min and T.max\n",
    "xnew = np.linspace(1, 6, 12) \n",
    "\n",
    "spl = make_interp_spline(K, Sum_of_squared_data, k=3)  # type: BSpline\n",
    "power_smooth = spl(xnew)\n",
    "\n",
    "plt.plot(xnew, power_smooth,'bx-')\n",
    "plt.savefig('ElbowMethod_arvostukset_clusters_'+str(num_clusters)+'.png',bbox_inches='tight')\n",
    "plt.show()"
   ]
  },
  {
   "cell_type": "code",
   "execution_count": null,
   "metadata": {},
   "outputs": [],
   "source": []
  },
  {
   "cell_type": "code",
   "execution_count": 11,
   "metadata": {},
   "outputs": [
    {
     "name": "stdout",
     "output_type": "stream",
     "text": [
      "\n",
      "ORIGINAL DATA WITH CLUSTER INDEX:\n",
      "    Urheilu ja liikunta  Baarit ja klubit  Kirjallisuus  Musiikki  \\\n",
      "0                    5                 4             6         9   \n",
      "1                    6                 8             4         8   \n",
      "2                    5                 8             2         3   \n",
      "3                    5                 8             4         6   \n",
      "4                    5                 8             1         4   \n",
      "5                    4                 5             5         7   \n",
      "6                    8                 6             5        10   \n",
      "7                    9                10             5         4   \n",
      "8                   10                 8             7        10   \n",
      "9                    7                 8             3         3   \n",
      "\n",
      "   Perhe ja suku  Luonto  Mokkeily  Sisustus  Matkailu  Kasityot  \\\n",
      "0              8       7         8         9         2         6   \n",
      "1              4       0         5         6         5         0   \n",
      "2              6       3         3         3         6         3   \n",
      "3              5       1         6         4         7         4   \n",
      "4              9      10         9         6         9         5   \n",
      "5              6       6         6         7         6         4   \n",
      "6              4       3         4         9        10         3   \n",
      "7              5       3         3         4         8         0   \n",
      "8             10       6        10        10         9         5   \n",
      "9              9       8         8         8         4         7   \n",
      "\n",
      "   Muoti ja vaatteet  Kuukausitulo  Sukupuoli  Cluster  \n",
      "0                  6          3104          0        1  \n",
      "1                  6          4153          1        2  \n",
      "2                  5          2072          1        0  \n",
      "3                  6          2689          1        0  \n",
      "4                 10          1495          1        1  \n",
      "5                  5          2554          1        1  \n",
      "6                  5          3025          0        2  \n",
      "7                 10          4282          0        2  \n",
      "8                  3          4291          0        1  \n",
      "9                  7          3104          0        1  \n"
     ]
    }
   ],
   "source": [
    "###Original data with clusters###save to Excel\n",
    "\n",
    "#Inverse scaled data\n",
    "#inversed_df = scaler.inverse_transform(df_scaled)\n",
    "\n",
    "\n",
    "#invert_df = pd.DataFrame(inversed_df, columns=colnames)\n",
    "data_train['Cluster'] = pd.DataFrame(predict, index=df_scaled.index)\n",
    "data_train.to_excel(r'original_data_with_clusters.xlsx')\n",
    "print('\\nORIGINAL DATA WITH CLUSTER INDEX:\\n',data_train.head(10))"
   ]
  },
  {
   "cell_type": "code",
   "execution_count": null,
   "metadata": {},
   "outputs": [],
   "source": []
  }
 ],
 "metadata": {
  "kernelspec": {
   "display_name": "Python 3",
   "language": "python",
   "name": "python3"
  },
  "language_info": {
   "codemirror_mode": {
    "name": "ipython",
    "version": 3
   },
   "file_extension": ".py",
   "mimetype": "text/x-python",
   "name": "python",
   "nbconvert_exporter": "python",
   "pygments_lexer": "ipython3",
   "version": "3.7.0"
  }
 },
 "nbformat": 4,
 "nbformat_minor": 2
}
