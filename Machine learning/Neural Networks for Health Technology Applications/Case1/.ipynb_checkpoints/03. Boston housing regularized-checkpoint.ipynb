{
 "cells": [
  {
   "cell_type": "markdown",
   "metadata": {},
   "source": [
    "# Boston housing: a regression example with regularization\n",
    "\n",
    "\n",
    "The objective is to predict the house price in a certain Boston suburb (in the 1970s)."
   ]
  },
  {
   "cell_type": "code",
   "execution_count": null,
   "metadata": {},
   "outputs": [],
   "source": [
    "# Download the data and import stuff\n",
    "\n",
    "from tensorflow.keras.datasets import boston_housing\n",
    "from tensorflow.keras.models import Sequential\n",
    "from tensorflow.keras.layers import Dense\n",
    "from tensorflow.keras.layers import Dropout\n",
    "from tensorflow.keras import regularizers\n",
    "import matplotlib.pyplot as plt\n",
    "\n",
    "(train_data, train_targets), (test_data, test_targets) = boston_housing.load_data()"
   ]
  },
  {
   "cell_type": "code",
   "execution_count": null,
   "metadata": {},
   "outputs": [],
   "source": [
    "# Normalize the data and keep 300 samples for training (rest for validation)\n",
    "\n",
    "\n",
    "mean = train_data.mean(axis=0)\n",
    "train_data -= mean\n",
    "std = train_data.std(axis=0)\n",
    "train_data /= std\n",
    "test_data -= mean\n",
    "test_data /= std\n",
    "\n",
    "partial_train_data = train_data[:300]\n",
    "partial_train_targets = train_targets[:300]\n",
    "val_data = train_data[300:]\n",
    "val_targets = train_targets[300:]\n",
    "\n",
    "#print(partial_train_data.shape)\n",
    "print(train_data)"
   ]
  },
  {
   "cell_type": "code",
   "execution_count": null,
   "metadata": {},
   "outputs": [],
   "source": [
    "# Build the model and train it\n",
    "# You can pick what you want from three alternatives, and comment out the two others\n",
    "\n",
    "print(train_data.shape[1])\n",
    "\n",
    "model = Sequential()\n",
    "# 1) This is the model without any regularization\n",
    "model.add(Dense(64, activation='relu',\n",
    "            input_shape=(train_data.shape[1],)))\n",
    "model.add(Dense(64, activation='relu'))\n",
    "#\n",
    "# 2) This is the same model with L2 regularization\n",
    "#model.add(Dense(64, kernel_regularizer=regularizers.l2(0.05), activation='relu',\n",
    "#            input_shape=(train_data.shape[1],)))\n",
    "#model.add(Dense(64, kernel_regularizer=regularizers.l2(0.05), activation='relu'))\n",
    "# 3) This is the same model with dropout\n",
    "#model.add(Dense(64, activation='relu',\n",
    "#            input_shape=(train_data.shape[1],)))\n",
    "#model.add(Dropout(0.2))\n",
    "#model.add(Dense(64, activation='relu'))\n",
    "#model.add(Dropout(0.2))\n",
    "#\n",
    "model.add(Dense(1))\n",
    "model.compile(optimizer='rmsprop', loss='mse', metrics=['mae'])\n",
    "\n",
    "history = model.fit(partial_train_data, partial_train_targets,\n",
    "                    epochs=400, batch_size=16, verbose=0,\n",
    "                    validation_data = (val_data, val_targets))"
   ]
  },
  {
   "cell_type": "code",
   "execution_count": null,
   "metadata": {},
   "outputs": [],
   "source": [
    "# Plot the loss score and mean absolute error for both training and validation sets\n",
    "\n",
    "loss = history.history['loss']\n",
    "val_loss = history.history['val_loss']\n",
    "mae = history.history['mean_absolute_error']\n",
    "val_mae = history.history['val_mean_absolute_error']\n",
    "\n",
    "time = range(1,len(loss)+1)\n",
    "\n",
    "plt.plot(time, loss, 'b-')\n",
    "plt.plot(time, val_loss, 'r-')\n",
    "plt.xlabel('Epochs')\n",
    "plt.ylabel('Loss')\n",
    "plt.show()\n",
    "\n",
    "plt.plot(time, mae, 'b-')\n",
    "plt.plot(time, val_mae, 'r-')\n",
    "plt.xlabel('Epochs')\n",
    "plt.ylabel('MAE')\n",
    "plt.show()"
   ]
  },
  {
   "cell_type": "code",
   "execution_count": null,
   "metadata": {},
   "outputs": [],
   "source": [
    "# Cut off the first few MAE data points for clarity\n",
    "\n",
    "short_mae = mae[10:]\n",
    "short_val_mae = val_mae[10:]\n",
    "\n",
    "plt.plot(range(1,len(short_val_mae)+1), short_val_mae, 'r-')\n",
    "plt.plot(range(1,len(short_mae)+1), short_mae, 'b-')\n",
    "plt.xlabel('Epochs')\n",
    "plt.ylabel('MAE')\n",
    "plt.show()"
   ]
  },
  {
   "cell_type": "code",
   "execution_count": null,
   "metadata": {},
   "outputs": [],
   "source": [
    "# Smoothen the previous curve to reduce noise\n",
    "\n",
    "def smooth_curve(points, factor=0.9):\n",
    "    smoothed_points = []\n",
    "    for point in points:\n",
    "        if smoothed_points:\n",
    "            previous = smoothed_points[-1]\n",
    "            smoothed_points.append(previous * factor + point * (1 - factor))\n",
    "        else:\n",
    "            smoothed_points.append(point)\n",
    "    return smoothed_points\n",
    "\n",
    "smooth_val_mae = smooth_curve(val_mae[10:])\n",
    "\n",
    "plt.plot(range(1, len(smooth_val_mae) + 1), smooth_val_mae,'r-')\n",
    "plt.xlabel('Epochs')\n",
    "plt.ylabel('Validation MAE')\n",
    "plt.show()"
   ]
  },
  {
   "cell_type": "code",
   "execution_count": null,
   "metadata": {},
   "outputs": [],
   "source": [
    "# Build a fresh model (again, three alternatives) ...\n",
    "\n",
    "model = Sequential()\n",
    "# 1) This is the model without any regularization\n",
    "model.add(Dense(64, activation='relu',\n",
    "            input_shape=(train_data.shape[1],)))\n",
    "model.add(Dense(64, activation='relu'))\n",
    "#\n",
    "# 2) This is the same model with L2 regularization\n",
    "#model.add(Dense(64, kernel_regularizer=regularizers.l2(0.05), activation='relu',\n",
    "#            input_shape=(train_data.shape[1],)))\n",
    "#model.add(Dense(64, kernel_regularizer=regularizers.l2(0.05), activation='relu'))\n",
    "# 3) This is the same model with dropout\n",
    "#model.add(Dense(64, activation='relu',\n",
    "#            input_shape=(train_data.shape[1],)))\n",
    "#model.add(Dropout(0.2))\n",
    "#model.add(Dense(64, activation='relu'))\n",
    "#model.add(Dropout(0.2))\n",
    "#\n",
    "model.add(Dense(1))\n",
    "model.compile(optimizer='rmsprop', loss='mse', metrics=['mae'])"
   ]
  },
  {
   "cell_type": "code",
   "execution_count": null,
   "metadata": {},
   "outputs": [],
   "source": [
    "# ... and train it with the entire training data. Select \"epochs\" from the validation graphs above.\n",
    "# After that, make the final evaluation with test data.\n",
    "print(train_data)\n",
    "print(train_targets)\n",
    "\n",
    "model.fit(train_data, train_targets, epochs=200, batch_size=16, verbose=1)\n",
    "\n",
    "test_mse_score, test_mae_score = model.evaluate(test_data, test_targets)"
   ]
  },
  {
   "cell_type": "code",
   "execution_count": null,
   "metadata": {},
   "outputs": [],
   "source": [
    "print(test_mae_score)"
   ]
  },
  {
   "cell_type": "code",
   "execution_count": null,
   "metadata": {},
   "outputs": [],
   "source": []
  }
 ],
 "metadata": {
  "kernelspec": {
   "display_name": "Python 3",
   "language": "python",
   "name": "python3"
  },
  "language_info": {
   "codemirror_mode": {
    "name": "ipython",
    "version": 3
   },
   "file_extension": ".py",
   "mimetype": "text/x-python",
   "name": "python",
   "nbconvert_exporter": "python",
   "pygments_lexer": "ipython3",
   "version": "3.7.4"
  }
 },
 "nbformat": 4,
 "nbformat_minor": 2
}
