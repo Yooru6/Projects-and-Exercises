{
 "cells": [
  {
   "cell_type": "code",
   "execution_count": 3,
   "metadata": {},
   "outputs": [
    {
     "name": "stderr",
     "output_type": "stream",
     "text": [
      "C:\\Users\\Acer\\Anaconda3\\lib\\site-packages\\sklearn\\utils\\deprecation.py:77: DeprecationWarning: Function fetch_mldata is deprecated; fetch_mldata was deprecated in version 0.20 and will be removed in version 0.22\n",
      "  warnings.warn(msg, category=DeprecationWarning)\n",
      "C:\\Users\\Acer\\Anaconda3\\lib\\site-packages\\sklearn\\utils\\deprecation.py:77: DeprecationWarning: Function mldata_filename is deprecated; mldata_filename was deprecated in version 0.20 and will be removed in version 0.22\n",
      "  warnings.warn(msg, category=DeprecationWarning)\n"
     ]
    }
   ],
   "source": [
    "from sklearn import datasets, model_selection, svm, metrics\n",
    "from sklearn.neural_network import MLPClassifier\n",
    "from sklearn.externals import joblib\n",
    "import numpy as np\n",
    "import pandas as pd\n",
    "import threading\n",
    "from sklearn.model_selection import train_test_split\n",
    "from sklearn import tree\n",
    "import matplotlib.pyplot as plt\n",
    "from sklearn import preprocessing as pp\n",
    "mnist = datasets.fetch_mldata('MNIST original', data_home='data/src/download/')"
   ]
  },
  {
   "cell_type": "code",
   "execution_count": null,
   "metadata": {},
   "outputs": [],
   "source": [
    "##Prepare data##\n",
    "\n",
    "filename=r'arvostukset_v4.csv'\n",
    "data_train=pd.read_csv(filename,index_col=None,na_values='?',sep = ';')\n",
    "data_train=data_train.drop(['ID'], axis=1)\n",
    "data_train=data_train.dropna()\n",
    "#data_train['Sukupuoli'].replace(to_replace=['M'], value=0,inplace=True)\n",
    "#data_train['Sukupuoli'].replace(to_replace=['N'], value=1,inplace=True)\n",
    "\n",
    "#print(data_train.head(10))\n",
    "#df.head()\n",
    "\n",
    "print(\"\\nDESCRIBE DATA:\\n\",data_train.describe())\n",
    "data_train.describe().to_excel(r'original_Describe.xlsx')"
   ]
  },
  {
   "cell_type": "code",
   "execution_count": null,
   "metadata": {},
   "outputs": [],
   "source": [
    "###Scaling the data###\n",
    "\n",
    "from sklearn.preprocessing import StandardScaler\n",
    "colnames = data_train.columns.get_values()\n",
    "scaler = StandardScaler()\n",
    "df_scaled = pd.DataFrame(scaler.fit_transform(data_train))\n",
    "#df_scaled.head()\n",
    "print('\\nDESCRIBE SCALED DATA:\\n',df_scaled.describe())\n",
    "df_scaled.min()\n",
    "df_scaled.max()\n",
    "print('\\nSCALED DATA:\\n',df_scaled.head(10))\n",
    "df_scaled.to_excel(r'df_scaled.xlsx')\n",
    "\n",
    "described_df=df_scaled.describe()\n",
    "described_df.to_excel(r'df_scaled_Describe.xlsx')\n"
   ]
  },
  {
   "cell_type": "code",
   "execution_count": null,
   "metadata": {},
   "outputs": [],
   "source": [
    "###MAKE DECISION TREE###\n",
    "\n",
    "test_size=10\n",
    "train_size=200\n",
    "\n",
    "X_train, X_test, y_train, y_test = model_selection.train_test_split(data, labels, test_size=test_size, train_size=train_size)\n",
    "\n",
    "\n",
    "####\n",
    "clf = MLPClassifier(activation='relu', solver='adam', hidden_layer_sizes=1000,\n",
    "                        learning_rate_init=0.001, max_iter=1000 )\n",
    "\n",
    "clf.fit(X_train, y_train)\n",
    "\n",
    "\n",
    "pre = clf.predict(X_test)\n",
    "\n",
    "\n",
    "accuracy_score = metrics.accuracy_score(y_test, pre)\n",
    "\n",
    "print(\"accuracy:\", accuracy_score)"
   ]
  }
 ],
 "metadata": {
  "kernelspec": {
   "display_name": "Python 3",
   "language": "python",
   "name": "python3"
  },
  "language_info": {
   "codemirror_mode": {
    "name": "ipython",
    "version": 3
   },
   "file_extension": ".py",
   "mimetype": "text/x-python",
   "name": "python",
   "nbconvert_exporter": "python",
   "pygments_lexer": "ipython3",
   "version": "3.7.0"
  }
 },
 "nbformat": 4,
 "nbformat_minor": 2
}
