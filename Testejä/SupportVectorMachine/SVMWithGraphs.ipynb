{
 "cells": [
  {
   "cell_type": "code",
   "execution_count": null,
   "metadata": {},
   "outputs": [],
   "source": [
    "from sklearn import datasets, model_selection, svm, metrics\n",
    "from sklearn.neural_network import MLPClassifier\n",
    "from sklearn.externals import joblib\n",
    "import numpy as np\n",
    "import pandas as pd\n",
    "import threading\n",
    "from sklearn.model_selection import train_test_split\n",
    "from sklearn import tree\n",
    "import matplotlib.pyplot as plt\n",
    "from sklearn import preprocessing as pp"
   ]
  },
  {
   "cell_type": "code",
   "execution_count": null,
   "metadata": {},
   "outputs": [],
   "source": [
    "##Prepare data##\n",
    "\n",
    "filename=r'hinkunuha.csv'\n",
    "data_train=pd.read_csv(filename,index_col=None,na_values='?',sep = ';',decimal=\",\")\n",
    "data_train=data_train.drop(['Id'], axis=1)\n",
    "data_train=data_train.dropna()\n",
    "#data_train['Sukupuoli'].replace(to_replace=['M'], value=0,inplace=True)\n",
    "#data_train['Sukupuoli'].replace(to_replace=['N'], value=1,inplace=True)\n",
    "\n",
    "#print(data_train.head(10))\n",
    "#df.head()\n",
    "\n",
    "print(\"\\nDESCRIBE DATA:\\n\",data_train.describe())\n",
    "data_train.describe().to_excel(r'original_Describe.xlsx')\n",
    "data_train.to_csv(r'hinkunuha_edited.csv')"
   ]
  },
  {
   "cell_type": "code",
   "execution_count": null,
   "metadata": {},
   "outputs": [],
   "source": [
    "###Scaling the data###\n",
    "\n",
    "from sklearn.preprocessing import StandardScaler\n",
    "colnames = data_train.columns.get_values()\n",
    "scaler = StandardScaler()\n",
    "df_scaled = pd.DataFrame(scaler.fit_transform(data_train))\n",
    "#df_scaled.head()\n",
    "print('\\nDESCRIBE SCALED DATA:\\n',df_scaled.describe())\n",
    "df_scaled.min()\n",
    "df_scaled.max()\n",
    "print('\\nSCALED DATA:\\n',df_scaled.head(10))\n",
    "df_scaled.to_excel(r'df_scaled.xlsx')\n",
    "\n",
    "described_df=df_scaled.describe()\n",
    "described_df.to_excel(r'df_scaled_Describe.xlsx')\n"
   ]
  },
  {
   "cell_type": "code",
   "execution_count": null,
   "metadata": {},
   "outputs": [],
   "source": [
    "X_all = data_train.drop(['Disease'], axis=1)#data_train\n",
    "#print(X_all)\n",
    "y_all = data_train['Disease']\n",
    "#print(y_all.head())\n",
    "num_test = 10\n",
    "\n",
    "test_size=100\n",
    "train_size=620\n",
    "\n",
    "X_train, X_test, y_train, y_test = model_selection.train_test_split(X_all, y_all, test_size=test_size, train_size=train_size)\n",
    "\n",
    "\n",
    "    \n",
    "from sklearn.neighbors import KNeighborsClassifier as KNN\n",
    "    \n",
    "k_range=range(10,500)\n",
    "scores={}\n",
    "scores_list=[]\n",
    "error=[]\n",
    "\n",
    "###Classifier###\n",
    "for k in k_range:    \n",
    "    clf = KNN(n_neighbors=k)\n",
    "\n",
    "    ###Train###\n",
    "    clf.fit(X_train, y_train)\n",
    "\n",
    "    ###Predict###\n",
    "    pre = clf.predict(X_test)\n",
    "\n",
    "    ###Accuracy of Classifier###\n",
    "    accuracy_score = metrics.accuracy_score(y_test, pre)\n",
    "    print(k,\" \",accuracy_score)\n",
    "\n",
    "    #Matrix of results\n",
    "    result_matrix = metrics.confusion_matrix(pre,y_test)\n",
    "   # print(k,\"\\n\",result_matrix)\n",
    "    \n",
    "    scores[k] = metrics.accuracy_score(y_test,pre)\n",
    "\n",
    "    scores_list.append(accuracy_score)\n",
    "    \n",
    "    #Error values\n",
    "    error.append(np.mean(pre != y_test))\n",
    "    \n"
   ]
  },
  {
   "cell_type": "code",
   "execution_count": null,
   "metadata": {},
   "outputs": [],
   "source": []
  }
 ],
 "metadata": {
  "kernelspec": {
   "display_name": "Python 3",
   "language": "python",
   "name": "python3"
  },
  "language_info": {
   "codemirror_mode": {
    "name": "ipython",
    "version": 3
   },
   "file_extension": ".py",
   "mimetype": "text/x-python",
   "name": "python",
   "nbconvert_exporter": "python",
   "pygments_lexer": "ipython3",
   "version": "3.7.0"
  }
 },
 "nbformat": 4,
 "nbformat_minor": 2
}
